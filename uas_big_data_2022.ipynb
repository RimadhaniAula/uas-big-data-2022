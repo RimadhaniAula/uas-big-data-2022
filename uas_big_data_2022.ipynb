{
  "nbformat": 4,
  "nbformat_minor": 0,
  "metadata": {
    "colab": {
      "name": "uas-big-data-2022.ipynb",
      "provenance": [],
      "collapsed_sections": [],
      "authorship_tag": "ABX9TyPQuK4o4YNedRha4M0tHaR8",
      "include_colab_link": true
    },
    "kernelspec": {
      "name": "python3",
      "display_name": "Python 3"
    },
    "language_info": {
      "name": "python"
    }
  },
  "cells": [
    {
      "cell_type": "markdown",
      "metadata": {
        "id": "view-in-github",
        "colab_type": "text"
      },
      "source": [
        "<a href=\"https://colab.research.google.com/github/RimadhaniAula/uas-big-data-2022/blob/main/uas_big_data_2022.ipynb\" target=\"_parent\"><img src=\"https://colab.research.google.com/assets/colab-badge.svg\" alt=\"Open In Colab\"/></a>"
      ]
    },
    {
      "cell_type": "code",
      "execution_count": 1,
      "metadata": {
        "id": "HK0-ZXCdthqH"
      },
      "outputs": [],
      "source": [
        "!apt-get install openjdk-8-jdk-headless -qq > /dev/null"
      ]
    },
    {
      "cell_type": "code",
      "source": [
        "!wget -q https://dlcdn.apache.org/spark/spark-3.2.1/spark-3.2.1-bin-hadoop3.2.tgz"
      ],
      "metadata": {
        "id": "Ux3ixuUXCZiw"
      },
      "execution_count": 2,
      "outputs": []
    },
    {
      "cell_type": "code",
      "source": [
        "!tar xf spark-3.2.1-bin-hadoop3.2.tgz"
      ],
      "metadata": {
        "id": "hghBLhCLCf0Q"
      },
      "execution_count": 3,
      "outputs": []
    },
    {
      "cell_type": "code",
      "source": [
        "import os\n",
        "os.environ[\"JAVA HOME\"] = \"/usr/lib/jvm/java-8-openjdk-amd64\"\n",
        "os.environ[\"SPARK_HOME\"] = \"/content/spark-3.2.1-bin-hadoop3.2\""
      ],
      "metadata": {
        "id": "BdhU9QZHCoVM"
      },
      "execution_count": 4,
      "outputs": []
    },
    {
      "cell_type": "code",
      "source": [
        "!pip install -q findspark"
      ],
      "metadata": {
        "id": "hDav-lBnDQXU"
      },
      "execution_count": 5,
      "outputs": []
    },
    {
      "cell_type": "code",
      "source": [
        "import findspark\n",
        "findspark.init()"
      ],
      "metadata": {
        "id": "ki4aD_k1DWpY"
      },
      "execution_count": 6,
      "outputs": []
    },
    {
      "cell_type": "code",
      "source": [
        "from pyspark.sql import SparkSession\n",
        "spark = SparkSession.builder\\\n",
        "        .master(\"local\")\\\n",
        "        .appName(\"Colab\")\\\n",
        "        .config('spark.ui.port', '4050')\\\n",
        "        .getOrCreate()"
      ],
      "metadata": {
        "id": "yVyJ4tVfDd0p"
      },
      "execution_count": 7,
      "outputs": []
    },
    {
      "cell_type": "code",
      "source": [
        "df = spark.read.format(\"csv\").option(\"header\", \"True\", ).load(\"/data.csv\")\n",
        "df.printSchema()"
      ],
      "metadata": {
        "colab": {
          "base_uri": "https://localhost:8080/"
        },
        "id": "lMMwHY9kD8ar",
        "outputId": "810407cd-f42f-4ec0-cf8f-5251d180d2f8"
      },
      "execution_count": 13,
      "outputs": [
        {
          "output_type": "stream",
          "name": "stdout",
          "text": [
            "root\n",
            " |-- type_school;school_accreditation;gender;interest;residence;parent_age;parent_salary;house_area;average_grades;parent_was_in_college;in_college: string (nullable = true)\n",
            "\n"
          ]
        }
      ]
    },
    {
      "cell_type": "code",
      "source": [
        "df.describe().show()"
      ],
      "metadata": {
        "colab": {
          "base_uri": "https://localhost:8080/"
        },
        "id": "XLt8ZHl8JlZl",
        "outputId": "fbe93c5b-2701-4137-9007-85c721d8767b"
      },
      "execution_count": 15,
      "outputs": [
        {
          "output_type": "stream",
          "name": "stdout",
          "text": [
            "+-------+----------------------------------------------------------------------------------------------------------------------------------------------+\n",
            "|summary|type_school;school_accreditation;gender;interest;residence;parent_age;parent_salary;house_area;average_grades;parent_was_in_college;in_college|\n",
            "+-------+----------------------------------------------------------------------------------------------------------------------------------------------+\n",
            "|  count|                                                                                                                                          1000|\n",
            "|   mean|                                                                                                                                          null|\n",
            "| stddev|                                                                                                                                          null|\n",
            "|    min|                                                                                                                          Academic;A;Female...|\n",
            "|    max|                                                                                                                          Vocational;B;Male...|\n",
            "+-------+----------------------------------------------------------------------------------------------------------------------------------------------+\n",
            "\n"
          ]
        }
      ]
    },
    {
      "cell_type": "code",
      "source": [
        "df.show(4,False)"
      ],
      "metadata": {
        "colab": {
          "base_uri": "https://localhost:8080/"
        },
        "id": "nJ5WgFNuJ0oO",
        "outputId": "e18d6a8d-e4c9-418a-8c94-0c4d985b6bab"
      },
      "execution_count": 16,
      "outputs": [
        {
          "output_type": "stream",
          "name": "stdout",
          "text": [
            "+----------------------------------------------------------------------------------------------------------------------------------------------+\n",
            "|type_school;school_accreditation;gender;interest;residence;parent_age;parent_salary;house_area;average_grades;parent_was_in_college;in_college|\n",
            "+----------------------------------------------------------------------------------------------------------------------------------------------+\n",
            "|Academic;A;Male;Less Interested;Urban;56;6950000;83.0;84.09;FALSE;TRUE                                                                        |\n",
            "|Academic;A;Male;Less Interested;Urban;57;4410000;76.8;86.91;FALSE;TRUE                                                                        |\n",
            "|Academic;B;Female;Very Interested;Urban;50;6500000;80.6;87.43;FALSE;TRUE                                                                      |\n",
            "|Vocational;B;Male;Very Interested;Rural;49;6600000;78.2;82.12;TRUE;TRUE                                                                       |\n",
            "+----------------------------------------------------------------------------------------------------------------------------------------------+\n",
            "only showing top 4 rows\n",
            "\n"
          ]
        }
      ]
    },
    {
      "cell_type": "code",
      "source": [
        "df.show(3,True)"
      ],
      "metadata": {
        "colab": {
          "base_uri": "https://localhost:8080/"
        },
        "id": "9onUXCBeTGSX",
        "outputId": "4c8c2a30-faec-4a4d-cfa2-1becd110b396"
      },
      "execution_count": 27,
      "outputs": [
        {
          "output_type": "stream",
          "name": "stdout",
          "text": [
            "+----------------------------------------------------------------------------------------------------------------------------------------------+\n",
            "|type_school;school_accreditation;gender;interest;residence;parent_age;parent_salary;house_area;average_grades;parent_was_in_college;in_college|\n",
            "+----------------------------------------------------------------------------------------------------------------------------------------------+\n",
            "|                                                                                                                          Academic;A;Male;L...|\n",
            "|                                                                                                                          Academic;A;Male;L...|\n",
            "|                                                                                                                          Academic;B;Female...|\n",
            "+----------------------------------------------------------------------------------------------------------------------------------------------+\n",
            "only showing top 3 rows\n",
            "\n"
          ]
        }
      ]
    }
  ]
}